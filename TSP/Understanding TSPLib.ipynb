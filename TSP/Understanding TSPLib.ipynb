{
 "cells": [
  {
   "cell_type": "markdown",
   "id": "8f329d4f",
   "metadata": {},
   "source": [
    "This notebook is for experimenting with : <br>\n",
    "&emsp;&emsp; 1. Method of extracting the data from TSPLIB dataset into a usable format<br>\n",
    "&emsp;&emsp; 2. Simulated annealing for TSP with QUBO and without."
   ]
  },
  {
   "cell_type": "markdown",
   "id": "3ff9db5a",
   "metadata": {},
   "source": [
    "## Reading TSPLIB data"
   ]
  },
  {
   "cell_type": "markdown",
   "id": "d0dae755",
   "metadata": {},
   "source": [
    "#### Convert the tsp file into list"
   ]
  },
  {
   "cell_type": "code",
   "execution_count": null,
   "id": "11b31fd4",
   "metadata": {},
   "outputs": [],
   "source": [
    "file1 = open('bays29.tsp')     #Test Dataset from Symmetric TSP\n",
    "lines_list = file1.read().splitlines()"
   ]
  },
  {
   "cell_type": "code",
   "execution_count": null,
   "id": "b7be45c1",
   "metadata": {},
   "outputs": [],
   "source": [
    "distance_list = lines_list[8:37]    #29 lines for distance values of each 29x29 node pairs\n",
    "nodes_list = lines_list[38:-1]      #29 lines for the nodes coordinate values\n",
    "print(distance_list)\n",
    "print(nodes_list)"
   ]
  },
  {
   "cell_type": "markdown",
   "id": "c557ba43",
   "metadata": {},
   "source": [
    "#### Convert the Lists into 2D Matrix"
   ]
  },
  {
   "cell_type": "code",
   "execution_count": null,
   "id": "45b02350",
   "metadata": {},
   "outputs": [],
   "source": [
    "# The list containg the lines are split and null values are removed\n",
    "distance_matrix = [0 for i in range (29)]\n",
    "nodes_matrix = [0 for i in range(29)]\n",
    "for i in range(29):\n",
    "    d_row = distance_list[i].split(' ')\n",
    "    d_row = list(filter(None,d_row))\n",
    "    n_row = nodes_list[i].split(' ')\n",
    "    n_row = list(filter(None,n_row))\n",
    "    distance_matrix[i] = d_row\n",
    "    nodes_matrix[i] = n_row\n",
    "print(distance_matrix)\n",
    "print(nodes_matrix)\n",
    "    "
   ]
  },
  {
   "cell_type": "code",
   "execution_count": null,
   "id": "25e1a4ab",
   "metadata": {},
   "outputs": [],
   "source": [
    "# reshaping the matrices\n",
    "import numpy as np\n",
    "#Convert the lists to numpy arrays\n",
    "distance_matrix = np.array(distance_matrix)\n",
    "nodes_matrix = np.array(nodes_matrix)\n",
    "distance_matrix = distance_matrix.reshape(29,29)        # Re-shape into 2D array\n",
    "nodes_matrix = nodes_matrix.reshape(29,3)               # Re-shape into 2D array\n",
    "distance_matrix = distance_matrix.astype(float)         # The elements of array were of string type\n",
    "nodes_matrix = nodes_matrix.astype(float)               # So we convert them to float\n",
    "nodes_matrix = nodes_matrix.astype(int)"
   ]
  },
  {
   "cell_type": "code",
   "execution_count": null,
   "id": "68d1cc50",
   "metadata": {},
   "outputs": [],
   "source": [
    "# check the matrices\n",
    "print(distance_matrix)\n",
    "print(nodes_matrix)"
   ]
  },
  {
   "cell_type": "markdown",
   "id": "e086a8e3",
   "metadata": {},
   "source": [
    "## QUBO formulation using PyQUBO\n",
    "### Docs: https://pyqubo.readthedocs.io/en/latest/index.html\n",
    "<img src=\"https://raw.githubusercontent.com/recruit-communications/pyqubo/master/images/benchmark.svg\" /> \n",
    "\n",
    "#### PyQUBO has been benchmarked on TSP problems and has a significant execution time advantage and is highly optimised.\n",
    "\n",
    "#### Reference for code : https://github.com/recruit-communications/pyqubo/blob/master/notebooks/TSP.ipynb"
   ]
  },
  {
   "cell_type": "code",
   "execution_count": null,
   "id": "5606f6e1",
   "metadata": {},
   "outputs": [],
   "source": [
    "%matplotlib inline\n",
    "from pyqubo import Array, Placeholder, Constraint\n",
    "import matplotlib.pyplot as plt\n",
    "import networkx as nx"
   ]
  },
  {
   "cell_type": "code",
   "execution_count": null,
   "id": "5c0f1f6c",
   "metadata": {},
   "outputs": [],
   "source": [
    "def plot_city(cities, sol=None):\n",
    "    n_city = len(cities)\n",
    "    cities_dict = dict(cities)\n",
    "    G = nx.Graph()\n",
    "    for city in cities_dict:\n",
    "        G.add_node(city)\n",
    "        \n",
    "    # draw path\n",
    "    if sol:\n",
    "        city_order = []\n",
    "        for i in range(n_city):\n",
    "            for j in range(n_city):\n",
    "                if sol.array('c', (i, j)) == 1:\n",
    "                    city_order.append(j)\n",
    "        for i in range(n_city):\n",
    "            city_index1 = city_order[i]\n",
    "            city_index2 = city_order[(i+1) % n_city]\n",
    "            G.add_edge(cities[city_index1][0], cities[city_index2][0])\n",
    "\n",
    "    plt.figure(figsize=(3,3))\n",
    "    pos = nx.spring_layout(G)\n",
    "    nx.draw_networkx(G, cities_dict)\n",
    "    plt.axis(\"off\")\n",
    "    plt.show()\n",
    "\n",
    "def dist(i, j, cities):\n",
    "    pos_i = cities[i][1]\n",
    "    pos_j = cities[j][1]\n",
    "    return np.sqrt((pos_i[0] - pos_j[0])**2 + (pos_i[1] - pos_j[1])**2)"
   ]
  },
  {
   "cell_type": "markdown",
   "id": "b5a3230e",
   "metadata": {},
   "source": [
    "#### The instance below doesn't seem to get a solution with pyqubo"
   ]
  },
  {
   "cell_type": "code",
   "execution_count": null,
   "id": "ac4d0302",
   "metadata": {},
   "outputs": [],
   "source": [
    "#creating an instance from \"bays29.tsp\"\n",
    "cities = [(i,(0,0)) for i in range(5)]\n",
    "n_mat = nodes_matrix.copy()\n",
    "for i in range(5):\n",
    "    cities[i] = (str(n_mat[i][0]), (n_mat[i][1], n_mat[i][2]))\n",
    "plot_city(cities)\n",
    "print(cities)"
   ]
  },
  {
   "cell_type": "markdown",
   "id": "609cee73",
   "metadata": {},
   "source": [
    "#### But the instance below works"
   ]
  },
  {
   "cell_type": "code",
   "execution_count": null,
   "id": "e36abb99",
   "metadata": {},
   "outputs": [],
   "source": [
    "# City names and coordinates list[(\"name\", (x, y))]\n",
    "cities = [\n",
    "    (\"a\", (0, 0)),\n",
    "    (\"b\", (1, 3)),\n",
    "    (\"c\", (3, 2)),\n",
    "    (\"d\", (2, 1)),\n",
    "    (\"e\", (0, 1))\n",
    "]\n",
    "plot_city(cities)"
   ]
  },
  {
   "cell_type": "markdown",
   "id": "ad467f3a",
   "metadata": {},
   "source": [
    "#### Prepare binary vector with bit (𝑖,𝑗) representing to visit 𝑗 city at time 𝑖"
   ]
  },
  {
   "cell_type": "code",
   "execution_count": null,
   "id": "dc45d7c2",
   "metadata": {},
   "outputs": [],
   "source": [
    "n_city = len(cities)\n",
    "x = Array.create('c', (n_city, n_city), 'BINARY')"
   ]
  },
  {
   "cell_type": "code",
   "execution_count": null,
   "id": "f3f017be",
   "metadata": {},
   "outputs": [],
   "source": [
    "# Constraint not to visit more than two cities at the same time.\n",
    "# equation (6) implemented here\n",
    "# time_const + city_const = H_a\n",
    "time_const = 0.0\n",
    "for i in range(n_city):\n",
    "    # If you wrap the hamiltonian by Const(...), this part is recognized as constraint\n",
    "    time_const += Constraint((sum(x[i, j] for j in range(n_city)) - 1)**2, label=\"time{}\".format(i))\n",
    "\n",
    "# Constraint not to visit the same city more than twice.\n",
    "city_const = 0.0\n",
    "for j in range(n_city):\n",
    "    city_const += Constraint((sum(x[i, j] for i in range(n_city)) - 1)**2, label=\"city{}\".format(j))"
   ]
  },
  {
   "cell_type": "code",
   "execution_count": null,
   "id": "73b1e109",
   "metadata": {},
   "outputs": [],
   "source": [
    "# distance of route\n",
    "# equation (5) implemented here\n",
    "distance = 0.0\n",
    "for i in range(n_city):\n",
    "    for j in range(n_city):\n",
    "        for k in range(n_city):\n",
    "            d_ij = dist(i, j, cities)\n",
    "            distance += d_ij * x[k, i] * x[(k+1)%n_city, j]  # sum(d_uv) in eq.5 i.e. H_b"
   ]
  },
  {
   "cell_type": "markdown",
   "id": "db402b19",
   "metadata": {},
   "source": [
    "<img src= \"Screenshot (59).png\">"
   ]
  },
  {
   "cell_type": "code",
   "execution_count": null,
   "id": "f7d0078e",
   "metadata": {},
   "outputs": [],
   "source": [
    "# Construct hamiltonian\n",
    "A = Placeholder(\"A\")  # the relaxation parameter\n",
    "H = distance + A * (time_const + city_const)  # Eq (4)"
   ]
  },
  {
   "cell_type": "code",
   "execution_count": null,
   "id": "a14c9098",
   "metadata": {},
   "outputs": [],
   "source": [
    "# Compile model\n",
    "model = H.compile()"
   ]
  },
  {
   "cell_type": "code",
   "execution_count": null,
   "id": "1ed4e0e5",
   "metadata": {},
   "outputs": [],
   "source": [
    "# Generate QUBO\n",
    "# maybe we can add a loop to go through different relaxation parameter here\n",
    "feed_dict = {'A': 4.0}\n",
    "bqm = model.to_bqm(feed_dict=feed_dict)"
   ]
  },
  {
   "cell_type": "code",
   "execution_count": null,
   "id": "51d4413c",
   "metadata": {},
   "outputs": [],
   "source": [
    "import neal\n",
    "sa = neal.SimulatedAnnealingSampler()\n",
    "sampleset = sa.sample(bqm, num_reads=100, num_sweeps=100)\n",
    "\n",
    "# Decode solution\n",
    "decoded_samples = model.decode_sampleset(sampleset, feed_dict=feed_dict)\n",
    "best_sample = min(decoded_samples, key=lambda x: x.energy)\n",
    "num_broken = len(best_sample.constraints(only_broken=True))\n",
    "print(\"number of broken constraint = {}\".format(num_broken))"
   ]
  },
  {
   "cell_type": "code",
   "execution_count": null,
   "id": "bb25b34e",
   "metadata": {},
   "outputs": [],
   "source": [
    "if num_broken == 0:\n",
    "    plot_city(cities, best_sample)"
   ]
  }
 ],
 "metadata": {
  "kernelspec": {
   "display_name": "Python 3 (ipykernel)",
   "language": "python",
   "name": "python3"
  },
  "language_info": {
   "codemirror_mode": {
    "name": "ipython",
    "version": 3
   },
   "file_extension": ".py",
   "mimetype": "text/x-python",
   "name": "python",
   "nbconvert_exporter": "python",
   "pygments_lexer": "ipython3",
   "version": "3.10.9"
  }
 },
 "nbformat": 4,
 "nbformat_minor": 5
}
