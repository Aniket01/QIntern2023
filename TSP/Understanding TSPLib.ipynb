{
 "cells": [
  {
   "cell_type": "markdown",
   "id": "8f329d4f",
   "metadata": {},
   "source": [
    "This notebook is for experimenting with : <br>\n",
    "&emsp;&emsp; 1. Method of extracting the data from TSPLIB dataset into a usable format<br>\n",
    "&emsp;&emsp; 2. Simulated annealing for TSP with QUBO and without."
   ]
  },
  {
   "cell_type": "markdown",
   "id": "3ff9db5a",
   "metadata": {},
   "source": [
    "## Reading TSPLIB data"
   ]
  },
  {
   "cell_type": "markdown",
   "id": "d0dae755",
   "metadata": {},
   "source": [
    "#### Convert the tsp file into list"
   ]
  },
  {
   "cell_type": "code",
   "execution_count": 1,
   "id": "11b31fd4",
   "metadata": {},
   "outputs": [],
   "source": [
    "file1 = open('bays29.tsp')     #Test Dataset from Symmetric TSP\n",
    "lines_list = file1.read().splitlines()"
   ]
  },
  {
   "cell_type": "code",
   "execution_count": 2,
   "id": "b7be45c1",
   "metadata": {},
   "outputs": [],
   "source": [
    "distance_list = lines_list[8:37]    #29 lines for distance values of each 29x29 node pairs\n",
    "nodes_list = lines_list[38:-1]      #29 lines for the nodes coordinate values\n",
    "# print(distance_list)\n",
    "# print(nodes_list)"
   ]
  },
  {
   "cell_type": "markdown",
   "id": "c557ba43",
   "metadata": {},
   "source": [
    "#### Convert the Lists into 2D Matrix"
   ]
  },
  {
   "cell_type": "code",
   "execution_count": 3,
   "id": "45b02350",
   "metadata": {},
   "outputs": [],
   "source": [
    "# The list containg the lines are split and null values are removed\n",
    "distance_matrix = [0 for i in range (29)]\n",
    "nodes_matrix = [0 for i in range(29)]\n",
    "for i in range(29):\n",
    "    d_row = distance_list[i].split(' ')\n",
    "    d_row = list(filter(None,d_row))\n",
    "    n_row = nodes_list[i].split(' ')\n",
    "    n_row = list(filter(None,n_row))\n",
    "    distance_matrix[i] = d_row\n",
    "    nodes_matrix[i] = n_row\n",
    "#print(distance_matrix)\n",
    "#print(nodes_matrix)\n",
    "    "
   ]
  },
  {
   "cell_type": "code",
   "execution_count": 4,
   "id": "25e1a4ab",
   "metadata": {},
   "outputs": [],
   "source": [
    "# reshaping the matrices\n",
    "import numpy as np\n",
    "#Convert the lists to numpy arrays\n",
    "distance_matrix = np.array(distance_matrix)\n",
    "nodes_matrix = np.array(nodes_matrix)\n",
    "distance_matrix = distance_matrix.reshape(29,29)        # Re-shape into 2D array\n",
    "nodes_matrix = nodes_matrix.reshape(29,3)               # Re-shape into 2D array\n",
    "distance_matrix = distance_matrix.astype(float)         # The elements of array were of string type\n",
    "nodes_matrix = nodes_matrix.astype(float)               # So we convert them to float\n",
    "nodes_matrix = nodes_matrix.astype(int)"
   ]
  },
  {
   "cell_type": "code",
   "execution_count": 5,
   "id": "68d1cc50",
   "metadata": {},
   "outputs": [],
   "source": [
    "# check the matrices\n",
    "# print(distance_matrix)\n",
    "# print(nodes_matrix)"
   ]
  },
  {
   "cell_type": "markdown",
   "id": "1fa0d057",
   "metadata": {},
   "source": [
    "## TSP to QUBO\n",
    "#### Custom function for QUBO Formulation compatible with dwave SimulatedAnnealingSampler"
   ]
  },
  {
   "cell_type": "code",
   "execution_count": 6,
   "id": "4a5b6f90",
   "metadata": {},
   "outputs": [
    {
     "data": {
      "text/plain": [
       "' elist = [0 for i in range(29)]\\nprint(qubo_matrix)\\nprint(\"Binary Quadratic Model:\")\\nfor (i, j), value in bqm.quadratic.items():\\n    print(f\"{i} -> {j}: {value}\")\\nfor i, bias in bqm.linear.items():\\n    print(f\"{i}: {bias}\") '"
      ]
     },
     "execution_count": 6,
     "metadata": {},
     "output_type": "execute_result"
    }
   ],
   "source": [
    "import dimod\n",
    "\n",
    "def tsp_qubo(distance_matrix):\n",
    "    num_cities = len(distance_matrix)\n",
    "    qubo = {}\n",
    "\n",
    "    # Variable definition\n",
    "    for i in range(num_cities):\n",
    "        for j in range(num_cities):\n",
    "            if i == j:\n",
    "                qubo[(i, j)] = distance_matrix[i][j]\n",
    "            else:\n",
    "                qubo[(i, j)] = 0.0\n",
    "\n",
    "    # Constraint: Each city should be visited exactly once\n",
    "    for i in range(num_cities):\n",
    "        for j in range(num_cities):\n",
    "            if i != j:\n",
    "                for k in range(num_cities):\n",
    "                    if k != i and k != j:\n",
    "                        qubo[(i, j)] += 2 * distance_matrix[i][k]\n",
    "\n",
    "    return qubo\n",
    "\n",
    "\n",
    "# FOR TESTING PURPOSES==============================================================================\n",
    "\n",
    "# The distance matrix of the first 10 nodes\n",
    "test_matrix = distance_matrix[:10 , :10]     \n",
    "\n",
    "# Formulate TSP as a QUBO problem\n",
    "qubo_matrix = tsp_qubo(test_matrix)\n",
    "\n",
    "# Create a BQM object for the QUBO problem\n",
    "bqm = dimod.BinaryQuadraticModel.from_qubo(qubo_matrix)\n",
    "\n",
    "# Print the QUBO and BQM (remove triple quotes and execute)\n",
    "\"\"\" elist = [0 for i in range(29)]\n",
    "print(qubo_matrix)\n",
    "print(\"Binary Quadratic Model:\")\n",
    "for (i, j), value in bqm.quadratic.items():\n",
    "    print(f\"{i} -> {j}: {value}\")\n",
    "for i, bias in bqm.linear.items():\n",
    "    print(f\"{i}: {bias}\") \"\"\"\n"
   ]
  },
  {
   "cell_type": "markdown",
   "id": "656a4d75",
   "metadata": {},
   "source": [
    "## Solve QUBO using SA"
   ]
  },
  {
   "cell_type": "code",
   "execution_count": 7,
   "id": "7f94abb7",
   "metadata": {},
   "outputs": [],
   "source": [
    "from dwave.samplers import SimulatedAnnealingSampler\n",
    "\n",
    "sampler = SimulatedAnnealingSampler()\n",
    "sampleset = sampler.sample(bqm, beta_range=[.1, 4.2], num_reads=100, beta_schedule_type='linear')"
   ]
  },
  {
   "cell_type": "code",
   "execution_count": 8,
   "id": "6b742809",
   "metadata": {},
   "outputs": [],
   "source": [
    "# print(sampleset)"
   ]
  },
  {
   "cell_type": "markdown",
   "id": "e086a8e3",
   "metadata": {},
   "source": [
    "## QUBO formulation using PyQUBO\n",
    "### Docs: https://pyqubo.readthedocs.io/en/latest/index.html\n",
    "<img src=\"https://raw.githubusercontent.com/recruit-communications/pyqubo/master/images/benchmark.svg\" /> \n",
    "\n",
    "#### PyQUBO has been benchmarked on TSP problems and has a significant execution time advantage and is highly optimised.\n",
    "\n",
    "#### Reference for code : https://github.com/recruit-communications/pyqubo/blob/master/notebooks/TSP.ipynb"
   ]
  },
  {
   "cell_type": "code",
   "execution_count": 9,
   "id": "5606f6e1",
   "metadata": {},
   "outputs": [],
   "source": [
    "%matplotlib inline\n",
    "from pyqubo import Array, Placeholder, Constraint\n",
    "import matplotlib.pyplot as plt\n",
    "import networkx as nx"
   ]
  },
  {
   "cell_type": "code",
   "execution_count": 10,
   "id": "5c0f1f6c",
   "metadata": {},
   "outputs": [],
   "source": [
    "def plot_city(cities, sol=None):\n",
    "    n_city = len(cities)\n",
    "    cities_dict = dict(cities)\n",
    "    G = nx.Graph()\n",
    "    for city in cities_dict:\n",
    "        G.add_node(city)\n",
    "        \n",
    "    # draw path\n",
    "    if sol:\n",
    "        city_order = []\n",
    "        for i in range(n_city):\n",
    "            for j in range(n_city):\n",
    "                if sol.array('c', (i, j)) == 1:\n",
    "                    city_order.append(j)\n",
    "        for i in range(n_city):\n",
    "            city_index1 = city_order[i]\n",
    "            city_index2 = city_order[(i+1) % n_city]\n",
    "            G.add_edge(cities[city_index1][0], cities[city_index2][0])\n",
    "\n",
    "    plt.figure(figsize=(3,3))\n",
    "    pos = nx.spring_layout(G)\n",
    "    nx.draw_networkx(G, cities_dict)\n",
    "    plt.axis(\"off\")\n",
    "    plt.show()\n",
    "\n",
    "def dist(i, j, cities):\n",
    "    pos_i = cities[i][1]\n",
    "    pos_j = cities[j][1]\n",
    "    return np.sqrt((pos_i[0] - pos_j[0])**2 + (pos_i[1] - pos_j[1])**2)"
   ]
  },
  {
   "cell_type": "markdown",
   "id": "b5a3230e",
   "metadata": {},
   "source": [
    "#### The instance below doesn't seem to get a solution with pyqubo"
   ]
  },
  {
   "cell_type": "code",
   "execution_count": 11,
   "id": "ac4d0302",
   "metadata": {},
   "outputs": [
    {
     "data": {
      "image/png": "[encoded data removed]",
      "text/plain": [
       "<Figure size 300x300 with 1 Axes>"
      ]
     },
     "metadata": {},
     "output_type": "display_data"
    },
    {
     "name": "stdout",
     "output_type": "stream",
     "text": [
      "[('1', (1150, 1760)), ('2', (630, 1660)), ('3', (40, 2090)), ('4', (750, 1100)), ('5', (750, 2030))]\n"
     ]
    }
   ],
   "source": [
    "#creating an instance from \"bays29.tsp\"\n",
    "cities = [(i,(0,0)) for i in range(5)]\n",
    "n_mat = nodes_matrix.copy()\n",
    "for i in range(5):\n",
    "    cities[i] = (str(n_mat[i][0]), (n_mat[i][1], n_mat[i][2]))\n",
    "plot_city(cities)\n",
    "print(cities)"
   ]
  },
  {
   "cell_type": "markdown",
   "id": "609cee73",
   "metadata": {},
   "source": [
    "#### But the instance below works"
   ]
  },
  {
   "cell_type": "code",
   "execution_count": 12,
   "id": "e36abb99",
   "metadata": {},
   "outputs": [
    {
     "data": {
      "image/png": "[encoded data removed]",
      "text/plain": [
       "<Figure size 300x300 with 1 Axes>"
      ]
     },
     "metadata": {},
     "output_type": "display_data"
    }
   ],
   "source": [
    "# City names and coordinates list[(\"name\", (x, y))]\n",
    "cities = [\n",
    "    (\"a\", (0, 0)),\n",
    "    (\"b\", (1, 3)),\n",
    "    (\"c\", (3, 2)),\n",
    "    (\"d\", (2, 1)),\n",
    "    (\"e\", (0, 1))\n",
    "]\n",
    "plot_city(cities)"
   ]
  },
  {
   "cell_type": "markdown",
   "id": "ad467f3a",
   "metadata": {},
   "source": [
    "#### Prepare binary vector with bit (𝑖,𝑗) representing to visit 𝑗 city at time 𝑖"
   ]
  },
  {
   "cell_type": "code",
   "execution_count": 13,
   "id": "dc45d7c2",
   "metadata": {},
   "outputs": [],
   "source": [
    "n_city = len(cities)\n",
    "x = Array.create('c', (n_city, n_city), 'BINARY')"
   ]
  },
  {
   "cell_type": "code",
   "execution_count": 14,
   "id": "f3f017be",
   "metadata": {},
   "outputs": [],
   "source": [
    "# Constraint not to visit more than two cities at the same time.\n",
    "time_const = 0.0\n",
    "for i in range(n_city):\n",
    "    # If you wrap the hamiltonian by Const(...), this part is recognized as constraint\n",
    "    time_const += Constraint((sum(x[i, j] for j in range(n_city)) - 1)**2, label=\"time{}\".format(i))\n",
    "\n",
    "# Constraint not to visit the same city more than twice.\n",
    "city_const = 0.0\n",
    "for j in range(n_city):\n",
    "    city_const += Constraint((sum(x[i, j] for i in range(n_city)) - 1)**2, label=\"city{}\".format(j))"
   ]
  },
  {
   "cell_type": "code",
   "execution_count": 15,
   "id": "73b1e109",
   "metadata": {},
   "outputs": [],
   "source": [
    "# distance of route\n",
    "distance = 0.0\n",
    "for i in range(n_city):\n",
    "    for j in range(n_city):\n",
    "        for k in range(n_city):\n",
    "            d_ij = dist(i, j, cities)\n",
    "            distance += d_ij * x[k, i] * x[(k+1)%n_city, j]"
   ]
  },
  {
   "cell_type": "code",
   "execution_count": 16,
   "id": "f7d0078e",
   "metadata": {},
   "outputs": [],
   "source": [
    "# Construct hamiltonian\n",
    "A = Placeholder(\"A\")\n",
    "H = distance + A * (time_const + city_const)"
   ]
  },
  {
   "cell_type": "code",
   "execution_count": 17,
   "id": "a14c9098",
   "metadata": {},
   "outputs": [],
   "source": [
    "# Compile model\n",
    "model = H.compile()"
   ]
  },
  {
   "cell_type": "code",
   "execution_count": 18,
   "id": "1ed4e0e5",
   "metadata": {},
   "outputs": [],
   "source": [
    "# Generate QUBO\n",
    "feed_dict = {'A': 4.0}\n",
    "bqm = model.to_bqm(feed_dict=feed_dict)"
   ]
  },
  {
   "cell_type": "code",
   "execution_count": 19,
   "id": "51d4413c",
   "metadata": {},
   "outputs": [
    {
     "name": "stdout",
     "output_type": "stream",
     "text": [
      "number of broken constraint = 0\n"
     ]
    }
   ],
   "source": [
    "import neal\n",
    "sa = neal.SimulatedAnnealingSampler()\n",
    "sampleset = sa.sample(bqm, num_reads=100, num_sweeps=100)\n",
    "\n",
    "# Decode solution\n",
    "decoded_samples = model.decode_sampleset(sampleset, feed_dict=feed_dict)\n",
    "best_sample = min(decoded_samples, key=lambda x: x.energy)\n",
    "num_broken = len(best_sample.constraints(only_broken=True))\n",
    "print(\"number of broken constraint = {}\".format(num_broken))"
   ]
  },
  {
   "cell_type": "code",
   "execution_count": 20,
   "id": "bb25b34e",
   "metadata": {},
   "outputs": [
    {
     "data": {
      "image/png": "[encoded data removed]",
      "text/plain": [
       "<Figure size 300x300 with 1 Axes>"
      ]
     },
     "metadata": {},
     "output_type": "display_data"
    }
   ],
   "source": [
    "if num_broken == 0:\n",
    "    plot_city(cities, best_sample)"
   ]
  },
  {
   "cell_type": "markdown",
   "id": "f66033ed",
   "metadata": {},
   "source": [
    "## Solve TSP instance with SA (without QUBO formulation)\n",
    "\n",
    "#### (Work in progress)"
   ]
  },
  {
   "cell_type": "code",
   "execution_count": 21,
   "id": "fd115287",
   "metadata": {},
   "outputs": [],
   "source": [
    "\n",
    "\n",
    "\n",
    "\n",
    "# initialise a problem instance as a pandas dataframe to be solved by the code snippets that follow"
   ]
  },
  {
   "cell_type": "code",
   "execution_count": 22,
   "id": "d780ce5c",
   "metadata": {},
   "outputs": [],
   "source": [
    "def cooling_temp(gamma, temp):\n",
    "    return gamma*temp"
   ]
  },
  {
   "cell_type": "code",
   "execution_count": 23,
   "id": "38e905e4",
   "metadata": {},
   "outputs": [],
   "source": [
    "def check_accept(temp, new_solution, current_solution):\n",
    "    prob = min(1, np.exp(-(new_solution - current_solution) / temp))\n",
    "    if prob > random.uniform(0, 1):\n",
    "        return True\n",
    "    else:\n",
    "        return False\n"
   ]
  },
  {
   "cell_type": "code",
   "execution_count": 24,
   "id": "7e478f97",
   "metadata": {},
   "outputs": [],
   "source": [
    "def swap_elements(df):\n",
    "    df_new = df.copy()\n",
    "    swap_list_indx = range(1, len(df) - 1)\n",
    "\n",
    "    i = random.randint(swap_list_indx[0], swap_list_indx[-1])\n",
    "    j = random.randint(swap_list_indx[0], swap_list_indx[-1])\n",
    "\n",
    "    if i == j:\n",
    "        while i == j:\n",
    "            j = random.randint(swap_list_indx[0], swap_list_indx[-1])\n",
    "\n",
    "    df_new.iloc[i], df_new.iloc[j] = df_new.iloc[j].copy(), df_new.iloc[i].copy()\n",
    "\n",
    "    return df_new"
   ]
  },
  {
   "cell_type": "code",
   "execution_count": 25,
   "id": "69e337f1",
   "metadata": {},
   "outputs": [],
   "source": [
    "def run(self):\n",
    "\n",
    "    temp = self.temp\n",
    "    gamma = self.gamma\n",
    "    df = self.df\n",
    "\n",
    "    scores = []\n",
    "    best_scores = []\n",
    "    temps = []\n",
    "\n",
    "    current = self.total_distance(self.df)\n",
    "    best = self.total_distance(self.df)\n",
    "\n",
    "    for _ in range(self.iterations):\n",
    "\n",
    "        # swap cities\n",
    "        df_new = self.swap_elements(df)\n",
    "\n",
    "        # calculate new distance\n",
    "        new = self.total_distance(df_new)\n",
    "        scores.append(new)\n",
    "\n",
    "        # log if this new one is the best we seen\n",
    "        if new < best:\n",
    "            best_df = df_new.copy()\n",
    "            best = new.copy()\n",
    "        best_scores.append(best)\n",
    "\n",
    "        # stay or transition from state\n",
    "        if self.check_accept(temp, new, current):\n",
    "            df = df_new.copy()\n",
    "            current = new.copy()\n",
    "\n",
    "        # update temperature\n",
    "        temps.append(temp)\n",
    "        temp = self.cooling_temp(gamma, temp)\n",
    "\n",
    "    return scores, best_scores, temps, best_df"
   ]
  },
  {
   "cell_type": "code",
   "execution_count": null,
   "id": "f718bf52",
   "metadata": {},
   "outputs": [],
   "source": [
    "iterations = 1000\n",
    "temp = 1000\n",
    "gamma = 0.99\n",
    "sa = SA(iterations, temp, df, gamma)\n",
    "scores, best_scores, temps, best_df = sa.run()\n",
    "\n",
    "# Plot the results\n",
    "fig = go.Figure()\n",
    "fig = make_subplots(specs=[[{\"secondary_y\": True}]])\n",
    "fig.add_trace(go.Scatter(x=list(range(iterations)), y=scores, name='Current Score'))\n",
    "fig.add_trace(go.Scatter(x=list(range(iterations)), y=best_scores, name='Best Score'))\n",
    "fig.add_trace(go.Scatter(x=list(range(iterations)), y=temps, name='Temperature'), secondary_y=True)\n",
    "fig.update_layout(template=\"simple_white\", font=dict(size=15), title_text='Simulated Annealing',\n",
    "                  width=800, title_x=0.5, height=450, xaxis_title='Iteration',\n",
    "                  yaxis_title='Distance')\n",
    "fig.update_yaxes(title_text=\"Temperature\", secondary_y=True, automargin=True)\n",
    "fig.update_xaxes(automargin=True)\n",
    "fig.show()\n",
    "\n",
    "# Plot resultant map\n",
    "fig = px.line(best_df, x='x', y='y', text='point', title='Best City Map')\n",
    "fig.update_layout(template=\"simple_white\", width=750, title_x=0.5, font=dict(size=18))\n",
    "fig.update_traces(textposition='top center')\n",
    "fig.show()"
   ]
  }
 ],
 "metadata": {
  "kernelspec": {
   "display_name": "Python 3 (ipykernel)",
   "language": "python",
   "name": "python3"
  },
  "language_info": {
   "codemirror_mode": {
    "name": "ipython",
    "version": 3
   },
   "file_extension": ".py",
   "mimetype": "text/x-python",
   "name": "python",
   "nbconvert_exporter": "python",
   "pygments_lexer": "ipython3",
   "version": "3.10.9"
  }
 },
 "nbformat": 4,
 "nbformat_minor": 5
}
