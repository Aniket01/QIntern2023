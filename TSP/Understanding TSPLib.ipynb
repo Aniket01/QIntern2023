{
 "cells": [
  {
   "cell_type": "markdown",
   "id": "8f329d4f",
   "metadata": {},
   "source": [
    "This notebook is for experimenting with : <br>\n",
    "&emsp;&emsp; 1. Method of extracting the data from TSPLIB dataset into a usable format<br>\n",
    "&emsp;&emsp; 2. Simulated annealing for TSP with QUBO formulation."
   ]
  },
  {
   "cell_type": "markdown",
   "id": "3ff9db5a",
   "metadata": {},
   "source": [
    "## Reading TSPLIB data"
   ]
  },
  {
   "cell_type": "markdown",
   "id": "d0dae755",
   "metadata": {},
   "source": [
    "#### Convert the tsp file into list"
   ]
  },
  {
   "cell_type": "code",
   "execution_count": 1,
   "id": "11b31fd4",
   "metadata": {},
   "outputs": [],
   "source": [
    "file1 = open('bays29.tsp')     #Test Dataset from Symmetric TSP\n",
    "lines_list = file1.read().splitlines()"
   ]
  },
  {
   "cell_type": "code",
   "execution_count": 2,
   "id": "b7be45c1",
   "metadata": {},
   "outputs": [],
   "source": [
    "distance_list = lines_list[8:37]    #29 lines for distance values of each 29x29 node pairs\n",
    "nodes_list = lines_list[38:-1]      #29 lines for the nodes coordinate values\n",
    "# print(distance_list)\n",
    "# print(nodes_list)"
   ]
  },
  {
   "cell_type": "markdown",
   "id": "c557ba43",
   "metadata": {},
   "source": [
    "#### Convert the Lists into 2D Matrix"
   ]
  },
  {
   "cell_type": "code",
   "execution_count": 3,
   "id": "45b02350",
   "metadata": {},
   "outputs": [],
   "source": [
    "# The list containg the lines are split and null values are removed\n",
    "distance_matrix = [0 for i in range (29)]\n",
    "nodes_matrix = [0 for i in range(29)]\n",
    "for i in range(29):\n",
    "    d_row = distance_list[i].split(' ')\n",
    "    d_row = list(filter(None,d_row))\n",
    "    n_row = nodes_list[i].split(' ')\n",
    "    n_row = list(filter(None,n_row))\n",
    "    distance_matrix[i] = d_row\n",
    "    nodes_matrix[i] = n_row\n",
    "# print(distance_matrix)\n",
    "# print(nodes_matrix)\n",
    "    "
   ]
  },
  {
   "cell_type": "code",
   "execution_count": 4,
   "id": "25e1a4ab",
   "metadata": {},
   "outputs": [],
   "source": [
    "# reshaping the matrices\n",
    "import numpy as np\n",
    "#Convert the lists to numpy arrays\n",
    "distance_matrix = np.array(distance_matrix)\n",
    "nodes_matrix = np.array(nodes_matrix)\n",
    "distance_matrix = distance_matrix.reshape(29,29)        # Re-shape into 2D array\n",
    "nodes_matrix = nodes_matrix.reshape(29,3)               # Re-shape into 2D array\n",
    "distance_matrix = distance_matrix.astype(float)         # The elements of array were of string type\n",
    "nodes_matrix = nodes_matrix.astype(float)               # So we convert them to float\n",
    "nodes_matrix = nodes_matrix.astype(int)"
   ]
  },
  {
   "cell_type": "code",
   "execution_count": 5,
   "id": "68d1cc50",
   "metadata": {},
   "outputs": [],
   "source": [
    "# check the matrices\n",
    "# print(distance_matrix)\n",
    "# print(nodes_matrix)"
   ]
  },
  {
   "cell_type": "markdown",
   "id": "e086a8e3",
   "metadata": {},
   "source": [
    "## QUBO formulation using PyQUBO\n",
    "### Docs: https://pyqubo.readthedocs.io/en/latest/index.html\n",
    "<img src=\"https://raw.githubusercontent.com/recruit-communications/pyqubo/master/images/benchmark.svg\" /> \n",
    "\n",
    "#### PyQUBO has been benchmarked on TSP problems and has a significant execution time advantage and is highly optimised.\n",
    "\n",
    "#### Reference for code : https://github.com/recruit-communications/pyqubo/blob/master/notebooks/TSP.ipynb"
   ]
  },
  {
   "cell_type": "code",
   "execution_count": 6,
   "id": "5606f6e1",
   "metadata": {},
   "outputs": [],
   "source": [
    "%matplotlib inline\n",
    "from pyqubo import Array, Placeholder, Constraint\n",
    "import matplotlib.pyplot as plt\n",
    "import networkx as nx"
   ]
  },
  {
   "cell_type": "code",
   "execution_count": 7,
   "id": "5c0f1f6c",
   "metadata": {},
   "outputs": [],
   "source": [
    "def plot_city(cities, sol=None):\n",
    "    n_city = len(cities)\n",
    "    cities_dict = dict(cities)\n",
    "    G = nx.Graph()\n",
    "    for city in cities_dict:\n",
    "        G.add_node(city)\n",
    "        \n",
    "    # draw path\n",
    "    if sol:\n",
    "        city_order = []\n",
    "        for i in range(n_city):\n",
    "            for j in range(n_city):\n",
    "                if sol.array('c', (i, j)) == 1:\n",
    "                    city_order.append(j)\n",
    "        for i in range(n_city):\n",
    "            city_index1 = city_order[i]\n",
    "            city_index2 = city_order[(i+1) % n_city]\n",
    "            G.add_edge(cities[city_index1][0], cities[city_index2][0])\n",
    "\n",
    "    plt.figure(figsize=(3,3))\n",
    "    pos = nx.spring_layout(G)\n",
    "    nx.draw_networkx(G, cities_dict)\n",
    "    plt.axis(\"off\")\n",
    "    plt.show()\n",
    "\n",
    "def dist(i, j, cities):\n",
    "    pos_i = cities[i][1]\n",
    "    pos_j = cities[j][1]\n",
    "    return np.sqrt((pos_i[0] - pos_j[0])**2 + (pos_i[1] - pos_j[1])**2)"
   ]
  },
  {
   "cell_type": "markdown",
   "id": "b5a3230e",
   "metadata": {},
   "source": [
    "#### Example instance from the dataset|"
   ]
  },
  {
   "cell_type": "code",
   "execution_count": 8,
   "id": "ac4d0302",
   "metadata": {},
   "outputs": [
    {
     "data": {
      "image/png": "[encoded data removed]",
      "text/plain": [
       "<Figure size 300x300 with 1 Axes>"
      ]
     },
     "metadata": {},
     "output_type": "display_data"
    },
    {
     "name": "stdout",
     "output_type": "stream",
     "text": [
      "[('1', (1150, 1760)), ('2', (630, 1660)), ('3', (40, 2090)), ('4', (750, 1100)), ('5', (750, 2030)), ('6', (1030, 2070)), ('7', (1650, 650)), ('8', (1490, 1630)), ('9', (790, 2260)), ('10', (710, 1310)), ('11', (840, 550)), ('12', (1170, 2300)), ('13', (970, 1340)), ('14', (510, 700)), ('15', (750, 900))]\n"
     ]
    }
   ],
   "source": [
    "#creating an instance from \"bays29.tsp\"\n",
    "cities = [(i,(0,0)) for i in range(15)]\n",
    "n_mat = nodes_matrix.copy()\n",
    "for i in range(15):\n",
    "    cities[i] = (str(n_mat[i][0]), (n_mat[i][1], n_mat[i][2]))\n",
    "plot_city(cities)\n",
    "print(cities)"
   ]
  },
  {
   "cell_type": "markdown",
   "id": "ad467f3a",
   "metadata": {},
   "source": [
    "#### Prepare binary vector with bit (𝑖,𝑗) representing to visit 𝑗 city at time 𝑖"
   ]
  },
  {
   "cell_type": "code",
   "execution_count": 9,
   "id": "dc45d7c2",
   "metadata": {},
   "outputs": [],
   "source": [
    "n_city = len(cities)\n",
    "x = Array.create('c', (n_city, n_city), 'BINARY')"
   ]
  },
  {
   "cell_type": "code",
   "execution_count": 10,
   "id": "f3f017be",
   "metadata": {},
   "outputs": [],
   "source": [
    "# Constraint not to visit more than two cities at the same time.\n",
    "# equation (6) implemented here\n",
    "# time_const + city_const = H_a\n",
    "time_const = 0.0\n",
    "for i in range(n_city):\n",
    "    # If you wrap the hamiltonian by Const(...), this part is recognized as constraint\n",
    "    time_const += Constraint((sum(x[i, j] for j in range(n_city)) - 1)**2, label=\"time{}\".format(i))\n",
    "\n",
    "# Constraint not to visit the same city more than twice.\n",
    "city_const = 0.0\n",
    "for j in range(n_city):\n",
    "    city_const += Constraint((sum(x[i, j] for i in range(n_city)) - 1)**2, label=\"city{}\".format(j))"
   ]
  },
  {
   "cell_type": "code",
   "execution_count": 11,
   "id": "73b1e109",
   "metadata": {},
   "outputs": [],
   "source": [
    "# distance of route\n",
    "# equation (5) implemented here\n",
    "distance = 0.0\n",
    "for i in range(n_city):\n",
    "    for j in range(n_city):\n",
    "        for k in range(n_city):\n",
    "            d_ij = dist(i, j, cities)\n",
    "            distance += d_ij * x[k, i] * x[(k+1)%n_city, j]  # sum(d_uv) in eq.5 i.e. H_b"
   ]
  },
  {
   "cell_type": "markdown",
   "id": "cc7bafe6",
   "metadata": {},
   "source": [
    "<img src= \"Screenshot (59).png\">"
   ]
  },
  {
   "cell_type": "code",
   "execution_count": 12,
   "id": "f7d0078e",
   "metadata": {},
   "outputs": [],
   "source": [
    "# Construct hamiltonian\n",
    "A = Placeholder(\"A\")  # the relaxation parameter\n",
    "H = distance + A * (time_const + city_const)  # Eq (4)"
   ]
  },
  {
   "cell_type": "code",
   "execution_count": 13,
   "id": "a14c9098",
   "metadata": {},
   "outputs": [],
   "source": [
    "# Compile model\n",
    "model = H.compile()"
   ]
  },
  {
   "cell_type": "code",
   "execution_count": 14,
   "id": "1ed4e0e5",
   "metadata": {},
   "outputs": [],
   "source": [
    "# Generate QUBO\n",
    "# maybe we can add a loop to go through different relaxation parameter here\n",
    "feed_dict = {'A': 1500.0}  # setting it to upper bound of the coordinate works!!!\n",
    "bqm = model.to_bqm(feed_dict=feed_dict)"
   ]
  },
  {
   "cell_type": "code",
   "execution_count": 15,
   "id": "51d4413c",
   "metadata": {},
   "outputs": [
    {
     "name": "stdout",
     "output_type": "stream",
     "text": [
      "number of broken constraint = 0\n"
     ]
    }
   ],
   "source": [
    "import neal\n",
    "sa = neal.SimulatedAnnealingSampler()\n",
    "sampleset = sa.sample(bqm, num_reads=128, num_sweeps=100)\n",
    "\n",
    "# Decode solution\n",
    "decoded_samples = model.decode_sampleset(sampleset, feed_dict=feed_dict)\n",
    "best_sample = min(decoded_samples, key=lambda x: x.energy)\n",
    "energy = best_sample.energy\n",
    "num_broken = len(best_sample.constraints(only_broken=True))\n",
    "print(\"number of broken constraint = {}\".format(num_broken))"
   ]
  },
  {
   "cell_type": "code",
   "execution_count": 16,
   "id": "bb25b34e",
   "metadata": {
    "scrolled": true
   },
   "outputs": [
    {
     "data": {
      "image/png": "[encoded data removed]",
      "text/plain": [
       "<Figure size 300x300 with 1 Axes>"
      ]
     },
     "metadata": {},
     "output_type": "display_data"
    },
    {
     "name": "stdout",
     "output_type": "stream",
     "text": [
      "8504.608304247027\n"
     ]
    }
   ],
   "source": [
    "if num_broken == 0:\n",
    "    plot_city(cities, best_sample)\n",
    "    print(energy)"
   ]
  },
  {
   "cell_type": "code",
   "execution_count": 22,
   "id": "8dda2cc6",
   "metadata": {},
   "outputs": [
    {
     "name": "stdout",
     "output_type": "stream",
     "text": [
      "P_f for {'A': 1990} is 1.0\n"
     ]
    }
   ],
   "source": [
    "infeasible_ctr = 0\n",
    "for i in range(128):\n",
    "    if len(decoded_samples[i].constraints(only_broken=True)) > 0:\n",
    "        infeasible_ctr += 1\n",
    "P_f = (128-infeasible_ctr)/128\n",
    "print(f\"P_f for {feed_dict} is {P_f}\")"
   ]
  },
  {
   "cell_type": "code",
   "execution_count": 27,
   "id": "864834bc",
   "metadata": {
    "collapsed": true
   },
   "outputs": [
    {
     "name": "stdout",
     "output_type": "stream",
     "text": [
      "P_f for {'A': 800} is 0.0\n",
      "P_f for {'A': 820} is 0.0\n",
      "P_f for {'A': 840} is 0.0\n",
      "P_f for {'A': 860} is 0.0\n",
      "P_f for {'A': 880} is 0.0078125\n",
      "P_f for {'A': 900} is 0.0078125\n",
      "P_f for {'A': 920} is 0.03125\n",
      "P_f for {'A': 940} is 0.0078125\n",
      "P_f for {'A': 960} is 0.046875\n",
      "P_f for {'A': 980} is 0.09375\n",
      "P_f for {'A': 1000} is 0.0859375\n",
      "P_f for {'A': 1020} is 0.109375\n",
      "P_f for {'A': 1040} is 0.140625\n",
      "P_f for {'A': 1060} is 0.2109375\n",
      "P_f for {'A': 1080} is 0.234375\n",
      "P_f for {'A': 1100} is 0.296875\n",
      "P_f for {'A': 1120} is 0.265625\n",
      "P_f for {'A': 1140} is 0.2734375\n",
      "P_f for {'A': 1160} is 0.3984375\n",
      "P_f for {'A': 1180} is 0.46875\n",
      "P_f for {'A': 1200} is 0.3828125\n",
      "P_f for {'A': 1220} is 0.4375\n",
      "P_f for {'A': 1240} is 0.46875\n",
      "P_f for {'A': 1260} is 0.59375\n",
      "P_f for {'A': 1280} is 0.640625\n",
      "P_f for {'A': 1300} is 0.6640625\n",
      "P_f for {'A': 1320} is 0.6484375\n",
      "P_f for {'A': 1340} is 0.671875\n",
      "P_f for {'A': 1360} is 0.7578125\n",
      "P_f for {'A': 1380} is 0.78125\n",
      "P_f for {'A': 1400} is 0.765625\n",
      "P_f for {'A': 1420} is 0.78125\n",
      "P_f for {'A': 1440} is 0.796875\n",
      "P_f for {'A': 1460} is 0.8046875\n",
      "P_f for {'A': 1480} is 0.8671875\n",
      "P_f for {'A': 1500} is 0.8828125\n",
      "P_f for {'A': 1520} is 0.8671875\n",
      "P_f for {'A': 1540} is 0.9140625\n",
      "P_f for {'A': 1560} is 0.890625\n",
      "P_f for {'A': 1580} is 0.9375\n",
      "P_f for {'A': 1600} is 0.9453125\n",
      "P_f for {'A': 1620} is 0.9140625\n",
      "P_f for {'A': 1640} is 0.9453125\n",
      "P_f for {'A': 1660} is 0.9453125\n",
      "P_f for {'A': 1680} is 0.9453125\n",
      "P_f for {'A': 1700} is 0.9765625\n",
      "P_f for {'A': 1720} is 0.9609375\n",
      "P_f for {'A': 1740} is 0.9609375\n",
      "P_f for {'A': 1760} is 0.984375\n",
      "P_f for {'A': 1780} is 0.96875\n",
      "P_f for {'A': 1800} is 0.9921875\n",
      "P_f for {'A': 1820} is 0.9921875\n",
      "P_f for {'A': 1840} is 0.9921875\n",
      "P_f for {'A': 1860} is 0.9921875\n",
      "P_f for {'A': 1880} is 0.984375\n",
      "P_f for {'A': 1900} is 0.984375\n",
      "P_f for {'A': 1920} is 0.984375\n",
      "P_f for {'A': 1940} is 1.0\n",
      "P_f for {'A': 1960} is 1.0\n",
      "P_f for {'A': 1980} is 1.0\n"
     ]
    }
   ],
   "source": [
    "sa = neal.SimulatedAnnealingSampler()\n",
    "Pf_arr = []\n",
    "r_arr = []\n",
    "for r in range (800, 2000, 20):\n",
    "    feed_dict = {'A': r}   \n",
    "    bqm = model.to_bqm(feed_dict=feed_dict)\n",
    "    sampleset = sa.sample(bqm, num_reads=128, num_sweeps=128)\n",
    "\n",
    "    decoded_samples = model.decode_sampleset(sampleset, feed_dict=feed_dict)\n",
    "    best_sample = min(decoded_samples, key=lambda x: x.energy)\n",
    "    energy = best_sample.energy\n",
    "    num_broken = len(best_sample.constraints(only_broken=True))\n",
    "    infeasible_ctr = 0\n",
    "    for i in range(128):\n",
    "        if len(decoded_samples[i].constraints(only_broken=True)) > 0:\n",
    "            infeasible_ctr += 1\n",
    "    P_f = (128-infeasible_ctr)/128\n",
    "    print(f\"P_f for {feed_dict} is {P_f}\")\n",
    "    Pf_arr.append(P_f)\n",
    "    r_arr.append(r)"
   ]
  },
  {
   "cell_type": "code",
   "execution_count": 30,
   "id": "63dfb988",
   "metadata": {},
   "outputs": [
    {
     "data": {
      "image/png": "[encoded data removed]",
      "text/plain": [
       "<Figure size 640x480 with 1 Axes>"
      ]
     },
     "metadata": {},
     "output_type": "display_data"
    }
   ],
   "source": [
    "plt.scatter(r_arr,Pf_arr)\n",
    "plt.xlabel(\"Relaxation Parameter\")\n",
    "plt.ylabel(\"$P_f$\")\n",
    "plt.show()"
   ]
  },
  {
   "cell_type": "code",
   "execution_count": null,
   "id": "d7b1d8eb",
   "metadata": {},
   "outputs": [],
   "source": []
  }
 ],
 "metadata": {
  "kernelspec": {
   "display_name": "Python 3 (ipykernel)",
   "language": "python",
   "name": "python3"
  },
  "language_info": {
   "codemirror_mode": {
    "name": "ipython",
    "version": 3
   },
   "file_extension": ".py",
   "mimetype": "text/x-python",
   "name": "python",
   "nbconvert_exporter": "python",
   "pygments_lexer": "ipython3",
   "version": "3.10.9"
  }
 },
 "nbformat": 4,
 "nbformat_minor": 5
}
